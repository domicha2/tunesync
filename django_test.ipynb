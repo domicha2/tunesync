{
 "cells": [
  {
   "cell_type": "code",
   "execution_count": 1,
   "metadata": {},
   "outputs": [],
   "source": [
    "import requests\n",
    "import json\n",
    "\n",
    "USERNAME = \"bbb\"\n",
    "PASSWORD = \".\"\n"
   ]
  },
  {
   "cell_type": "code",
   "execution_count": 5,
   "metadata": {},
   "outputs": [],
   "source": [
    "def getToken(username, password):\n",
    "    res = requests.post(\n",
    "        \"http://localhost:8000/get-token/\",\n",
    "        data={\"username\": \"bbb\", \"password\": \".\"},\n",
    "        verify=False,\n",
    "    )\n",
    "    return res.json()[\"token\"]\n",
    "\n",
    "\n",
    "def makeRoom(token, title, subtitle=None):\n",
    "    res = requests.post(\n",
    "        \"http://localhost:8000/rooms/\",\n",
    "        headers={\"Authorization\": \"Token \" + TOKEN},\n",
    "        data={\"subtitle\": subtitle, \"title\": title},\n",
    "    )\n",
    "    return res\n",
    "\n",
    "\n",
    "def makeEvent(token, room, event_type, args):\n",
    "    res = requests.post(\n",
    "        \"http://localhost:8000/events/\",\n",
    "        headers={\"Authorization\": \"Token \" + TOKEN, \"content-type\": \"application/json\"},\n",
    "        data=json.dumps({\"room\": room, \"event_type\":event_type, \"args\":args}),\n",
    "    )\n",
    "    return res\n",
    "\n",
    "def makeTune(token):\n",
    "    with open(\"test.mp3\", 'rb') as fobj:\n",
    "        res = requests.post(\n",
    "            \"http://localhost:8000/tunes/\",\n",
    "            headers={\"Authorization\": \"Token \" + TOKEN},\n",
    "            files={'file': fobj},\n",
    "        )\n",
    "        return res\n",
    "    \n",
    "def getEvents(token, room, event_type, skip, limit):\n",
    "    url =  \"http://localhost:8000/events/\"\n",
    "    \n",
    "    res = requests.get(url,\n",
    "                       params={\"room\":room, \"event_type\":event_type, \"skip\":skip, \"limit\":limit }, \n",
    "                       headers={\"Authorization\": \"Token \" + TOKEN})\n",
    "    return res\n",
    "\n",
    "def getTuneMeta(token, tune_id):\n",
    "    url = \"http://localhost:8000/tunes/{}/meta/\".format(tune_id)\n",
    "    res = requests.get(url, headers={\"Authorization\": \"Token \" + TOKEN})\n",
    "    return res\n",
    "\n",
    "def getTuneData(token, tune_id):\n",
    "    url = \"http://localhost:8000/tunes/{}/data/\".format(tune_id)\n",
    "    res = requests.get(url, headers={\"Authorization\": \"Token \" + TOKEN})\n",
    "    return res\n",
    "\n",
    "def getUser(token, skip, limit):\n",
    "    url = \"http://localhost:8000/users/?skip={}&limit={}\".format(skip, limit)\n",
    "    res = requests.get(url, headers={\"Authorization\": \"Token \" + TOKEN})\n",
    "    return res\n",
    "\n",
    "\n",
    "def makeUser(username, password):\n",
    "    url = \"http://localhost:8000/users/\"\n",
    "    res = requests.post(url,\n",
    "        data={\"username\": username, \"password\": password},\n",
    "    )\n",
    "    return res\n",
    "\n",
    "TOKEN = getToken(USERNAME, PASSWORD)\n",
    "\n"
   ]
  },
  {
   "cell_type": "code",
   "execution_count": 69,
   "metadata": {},
   "outputs": [],
   "source": [
    "TOKEN = getToken(\"ceee\", \"deee\")"
   ]
  },
  {
   "cell_type": "code",
   "execution_count": 77,
   "metadata": {},
   "outputs": [],
   "source": [
    "res = makeUser(\"ceeaaeq\", \"deaeaeq\")"
   ]
  },
  {
   "cell_type": "markdown",
   "metadata": {},
   "source": [
    "SEX"
   ]
  },
  {
   "cell_type": "code",
   "execution_count": 3,
   "metadata": {},
   "outputs": [
    {
     "data": {
      "text/plain": [
       "{'id': 8,\n",
       " 'title': 'cwneaeeeewar',\n",
       " 'subtitle': 'boop',\n",
       " 'creator': 2,\n",
       " 'members': [2],\n",
       " 'system_user': None}"
      ]
     },
     "execution_count": 3,
     "metadata": {},
     "output_type": "execute_result"
    }
   ],
   "source": [
    "res = makeRoom(TOKEN, \"cwneaeeeewar\", \"boop\")\n",
    "res.json()"
   ]
  },
  {
   "cell_type": "code",
   "execution_count": 12,
   "metadata": {},
   "outputs": [],
   "source": [
    "res = makeEvent(TOKEN, 8, \"U\", {\"type\": \"J\", \"is_accepted\":True})"
   ]
  },
  {
   "cell_type": "code",
   "execution_count": 11,
   "metadata": {},
   "outputs": [
    {
     "data": {
      "text/plain": [
       "{'id': 21,\n",
       " 'room': 8,\n",
       " 'creation_time': '2020-03-15T16:49:20.142638Z',\n",
       " 'event_type': 'U',\n",
       " 'author': 2,\n",
       " 'parent_event_id': None,\n",
       " 'args': {'type': 'J', 'is_accepted': True},\n",
       " 'isDeleted': False}"
      ]
     },
     "execution_count": 11,
     "metadata": {},
     "output_type": "execute_result"
    }
   ],
   "source": [
    "res.json()"
   ]
  },
  {
   "cell_type": "code",
   "execution_count": null,
   "metadata": {},
   "outputs": [],
   "source": [
    "res = makeEvent(TOKEN, 8, \"U\", {\"type\": \"L\"})"
   ]
  },
  {
   "cell_type": "code",
   "execution_count": 14,
   "metadata": {},
   "outputs": [
    {
     "data": {
      "text/plain": [
       "{'id': 22,\n",
       " 'room': 8,\n",
       " 'creation_time': '2020-03-15T16:54:13.024478Z',\n",
       " 'event_type': 'U',\n",
       " 'author': 2,\n",
       " 'parent_event_id': None,\n",
       " 'args': {'type': 'L'},\n",
       " 'isDeleted': False}"
      ]
     },
     "execution_count": 14,
     "metadata": {},
     "output_type": "execute_result"
    }
   ],
   "source": [
    "res.json()"
   ]
  },
  {
   "cell_type": "code",
   "execution_count": 23,
   "metadata": {},
   "outputs": [],
   "source": [
    "res = makeEvent(TOKEN, 8, \"MQ\", {\"queue\": [1,2]})"
   ]
  },
  {
   "cell_type": "code",
   "execution_count": 24,
   "metadata": {},
   "outputs": [
    {
     "data": {
      "text/plain": [
       "<Response [200]>"
      ]
     },
     "execution_count": 24,
     "metadata": {},
     "output_type": "execute_result"
    }
   ],
   "source": [
    "res"
   ]
  },
  {
   "cell_type": "code",
   "execution_count": 31,
   "metadata": {},
   "outputs": [],
   "source": [
    "res = makeEvent(TOKEN, 8, \"PL\", {\"song_id\": 1, \"is_playing\":True, \"timestamp\": 10.4})"
   ]
  },
  {
   "cell_type": "code",
   "execution_count": 32,
   "metadata": {},
   "outputs": [
    {
     "data": {
      "text/plain": [
       "{'id': 29,\n",
       " 'room': 8,\n",
       " 'creation_time': '2020-03-15T16:58:35.334802Z',\n",
       " 'event_type': 'PL',\n",
       " 'author': 2,\n",
       " 'parent_event_id': None,\n",
       " 'args': {'song_id': 1, 'is_playing': True, 'timestamp': 10.4},\n",
       " 'isDeleted': False}"
      ]
     },
     "execution_count": 32,
     "metadata": {},
     "output_type": "execute_result"
    }
   ],
   "source": [
    "res.json()"
   ]
  },
  {
   "cell_type": "code",
   "execution_count": 35,
   "metadata": {},
   "outputs": [],
   "source": [
    "res = makeEvent(TOKEN, 8, \"U\", {\"type\": \"I\", \"users\": [3,4]})"
   ]
  },
  {
   "cell_type": "code",
   "execution_count": 36,
   "metadata": {},
   "outputs": [
    {
     "data": {
      "text/plain": [
       "{'id': 31,\n",
       " 'room': 8,\n",
       " 'creation_time': '2020-03-15T17:01:36.939659Z',\n",
       " 'event_type': 'U',\n",
       " 'author': 2,\n",
       " 'parent_event_id': None,\n",
       " 'args': {'type': 'I', 'users': [3, 4]},\n",
       " 'isDeleted': False}"
      ]
     },
     "execution_count": 36,
     "metadata": {},
     "output_type": "execute_result"
    }
   ],
   "source": [
    "res.json()"
   ]
  },
  {
   "cell_type": "code",
   "execution_count": 39,
   "metadata": {},
   "outputs": [],
   "source": [
    "res = makeEvent(TOKEN, 8, \"U\", {\"type\": \"C\", \"user\": 3, \"role\": \"A\"})"
   ]
  },
  {
   "cell_type": "code",
   "execution_count": 40,
   "metadata": {},
   "outputs": [
    {
     "data": {
      "text/plain": [
       "{'id': 35,\n",
       " 'room': 8,\n",
       " 'creation_time': '2020-03-15T17:05:13.539927Z',\n",
       " 'event_type': 'U',\n",
       " 'author': 2,\n",
       " 'parent_event_id': None,\n",
       " 'args': {'type': 'C', 'user': 3, 'role': 'A'},\n",
       " 'isDeleted': False}"
      ]
     },
     "execution_count": 40,
     "metadata": {},
     "output_type": "execute_result"
    }
   ],
   "source": [
    "res.json()"
   ]
  },
  {
   "cell_type": "code",
   "execution_count": 41,
   "metadata": {},
   "outputs": [],
   "source": [
    "res = makeEvent(TOKEN, 8, \"U\", {\"type\": \"K\", \"user\": 2})"
   ]
  },
  {
   "cell_type": "code",
   "execution_count": 43,
   "metadata": {},
   "outputs": [
    {
     "data": {
      "text/plain": [
       "{'id': 36,\n",
       " 'room': 8,\n",
       " 'creation_time': '2020-03-15T17:08:28.543836Z',\n",
       " 'event_type': 'U',\n",
       " 'author': 2,\n",
       " 'parent_event_id': None,\n",
       " 'args': {'type': 'K', 'user': 2},\n",
       " 'isDeleted': False}"
      ]
     },
     "execution_count": 43,
     "metadata": {},
     "output_type": "execute_result"
    }
   ],
   "source": [
    "res.json()"
   ]
  },
  {
   "cell_type": "code",
   "execution_count": 44,
   "metadata": {},
   "outputs": [],
   "source": [
    "res = makeEvent(TOKEN, 8, \"M\", {\"content\": \"sex\"})"
   ]
  },
  {
   "cell_type": "code",
   "execution_count": 45,
   "metadata": {},
   "outputs": [
    {
     "data": {
      "text/plain": [
       "{'id': 37,\n",
       " 'room': 8,\n",
       " 'creation_time': '2020-03-15T17:09:50.043437Z',\n",
       " 'event_type': 'M',\n",
       " 'author': 2,\n",
       " 'parent_event_id': None,\n",
       " 'args': {'content': 'sex'},\n",
       " 'isDeleted': False}"
      ]
     },
     "execution_count": 45,
     "metadata": {},
     "output_type": "execute_result"
    }
   ],
   "source": [
    "res.json()"
   ]
  },
  {
   "cell_type": "code",
   "execution_count": 46,
   "metadata": {},
   "outputs": [],
   "source": [
    "res = makeEvent(TOKEN, 8, \"PO\", {\"action\": \"PL\", \"song_id\": 1, \"is_playing\":True, \"timestamp\": 10.4})"
   ]
  },
  {
   "cell_type": "code",
   "execution_count": 47,
   "metadata": {},
   "outputs": [
    {
     "data": {
      "text/plain": [
       "{'id': 38,\n",
       " 'room': 8,\n",
       " 'creation_time': '2020-03-15T17:11:05.287432Z',\n",
       " 'event_type': 'PO',\n",
       " 'author': 2,\n",
       " 'parent_event_id': None,\n",
       " 'args': {'action': 'PL', 'song_id': 1, 'is_playing': True, 'timestamp': 10.4},\n",
       " 'isDeleted': False}"
      ]
     },
     "execution_count": 47,
     "metadata": {},
     "output_type": "execute_result"
    }
   ],
   "source": [
    "res.json()"
   ]
  },
  {
   "cell_type": "code",
   "execution_count": 48,
   "metadata": {},
   "outputs": [],
   "source": [
    "res = makeEvent(TOKEN, 8, \"PO\", {\"action\": \"MQ\", \"queue\": [1 ,2]})"
   ]
  },
  {
   "cell_type": "code",
   "execution_count": 49,
   "metadata": {},
   "outputs": [
    {
     "data": {
      "text/plain": [
       "{'id': 39,\n",
       " 'room': 8,\n",
       " 'creation_time': '2020-03-15T17:12:06.149680Z',\n",
       " 'event_type': 'PO',\n",
       " 'author': 2,\n",
       " 'parent_event_id': None,\n",
       " 'args': {'action': 'MQ', 'queue': [1, 2]},\n",
       " 'isDeleted': False}"
      ]
     },
     "execution_count": 49,
     "metadata": {},
     "output_type": "execute_result"
    }
   ],
   "source": [
    "res.json()"
   ]
  },
  {
   "cell_type": "code",
   "execution_count": 51,
   "metadata": {},
   "outputs": [],
   "source": [
    "res = makeEvent(TOKEN, 8, \"PO\", {\"action\": \"U\", \"type\": \"K\" , \"user\": 4})"
   ]
  },
  {
   "cell_type": "code",
   "execution_count": 52,
   "metadata": {},
   "outputs": [
    {
     "data": {
      "text/plain": [
       "{'id': 40,\n",
       " 'room': 8,\n",
       " 'creation_time': '2020-03-15T17:13:22.864144Z',\n",
       " 'event_type': 'PO',\n",
       " 'author': 2,\n",
       " 'parent_event_id': None,\n",
       " 'args': {'action': 'U', 'type': 'K', 'user': 4},\n",
       " 'isDeleted': False}"
      ]
     },
     "execution_count": 52,
     "metadata": {},
     "output_type": "execute_result"
    }
   ],
   "source": [
    "res.json()"
   ]
  },
  {
   "cell_type": "code",
   "execution_count": 82,
   "metadata": {},
   "outputs": [],
   "source": [
    "res = makeTune(TOKEN)"
   ]
  },
  {
   "cell_type": "code",
   "execution_count": 92,
   "metadata": {},
   "outputs": [],
   "source": [
    "res = getTuneMeta(TOKEN, 2)"
   ]
  },
  {
   "cell_type": "code",
   "execution_count": 15,
   "metadata": {},
   "outputs": [],
   "source": [
    "res = getUser(TOKEN, 0, 5)"
   ]
  },
  {
   "cell_type": "code",
   "execution_count": 107,
   "metadata": {},
   "outputs": [],
   "source": [
    "res = getTuneData(TOKEN,2)"
   ]
  },
  {
   "cell_type": "code",
   "execution_count": 71,
   "metadata": {},
   "outputs": [
    {
     "data": {
      "text/plain": [
       "{'id': 13,\n",
       " 'room': 3,\n",
       " 'creation_time': '2020-03-14T23:17:47.988366Z',\n",
       " 'event_type': 'U',\n",
       " 'author': 2,\n",
       " 'parent_event_id': None,\n",
       " 'args': {'type': 'I', 'users': [5]},\n",
       " 'isDeleted': False}"
      ]
     },
     "execution_count": 71,
     "metadata": {},
     "output_type": "execute_result"
    }
   ],
   "source": [
    "res.json()"
   ]
  },
  {
   "cell_type": "code",
   "execution_count": 35,
   "metadata": {},
   "outputs": [
    {
     "data": {
      "text/plain": [
       "{'album': ['TunePocket Unlimited Royalty Free Music Library'], 'composer': ['www.tunepocket.com'], 'title': ['Drums Urban Percussion Intro 2 (Music For Video)'], 'artist': ['TunePocket.com Music Library'], 'albumartist': ['www.tunepocket.com'], 'genre': ['Electronic']}"
      ]
     },
     "execution_count": 35,
     "metadata": {},
     "output_type": "execute_result"
    }
   ],
   "source": [
    "audio = mutagen.File(\"test.mp3\", easy=True)\n",
    "audio.tags"
   ]
  },
  {
   "cell_type": "code",
   "execution_count": 39,
   "metadata": {},
   "outputs": [
    {
     "data": {
      "text/plain": [
       "'audio/mp3'"
      ]
     },
     "execution_count": 39,
     "metadata": {},
     "output_type": "execute_result"
    }
   ],
   "source": [
    "audio.mime[0]"
   ]
  },
  {
   "cell_type": "code",
   "execution_count": 40,
   "metadata": {},
   "outputs": [
    {
     "data": {
      "text/plain": [
       "23.412125"
      ]
     },
     "execution_count": 40,
     "metadata": {},
     "output_type": "execute_result"
    }
   ],
   "source": [
    "audio.info.length"
   ]
  },
  {
   "cell_type": "code",
   "execution_count": 44,
   "metadata": {},
   "outputs": [
    {
     "data": {
      "text/plain": [
       "['Drums Urban Percussion Intro 2 (Music For Video)']"
      ]
     },
     "execution_count": 44,
     "metadata": {},
     "output_type": "execute_result"
    }
   ],
   "source": [
    "audio[\"title\"]"
   ]
  }
 ],
 "metadata": {
  "kernelspec": {
   "display_name": "Python 3",
   "language": "python",
   "name": "python3"
  },
  "language_info": {
   "codemirror_mode": {
    "name": "ipython",
    "version": 3
   },
   "file_extension": ".py",
   "mimetype": "text/x-python",
   "name": "python",
   "nbconvert_exporter": "python",
   "pygments_lexer": "ipython3",
   "version": "3.7.3"
  }
 },
 "nbformat": 4,
 "nbformat_minor": 2
}
