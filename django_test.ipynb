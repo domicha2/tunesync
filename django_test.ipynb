{
 "cells": [
  {
   "cell_type": "code",
   "execution_count": 1,
   "metadata": {},
   "outputs": [],
   "source": [
    "import requests\n",
    "import json\n"
   ]
  },
  {
   "cell_type": "code",
   "execution_count": 2,
   "metadata": {},
   "outputs": [],
   "source": [
    "def getToken(username, password):\n",
    "    res = requests.post(\n",
    "        \"http://localhost:8000/get-token/\",\n",
    "        data={\"username\": \"bbb\", \"password\": \".\"},\n",
    "        verify=False,\n",
    "    )\n",
    "    return res.json()[\"token\"]\n",
    "\n",
    "\n",
    "def makeRoom(token, title, subtitle=None):\n",
    "    res = requests.post(\n",
    "        \"http://localhost:8000/rooms/\",\n",
    "        headers={\"Authorization\": \"Token \" + token},\n",
    "        data={\"subtitle\": subtitle, \"title\": title},\n",
    "    )\n",
    "    return res\n",
    "\n",
    "\n",
    "def makeEvent(token, room, event_type, args, parent_event=None):\n",
    "    data = {\"room\": room, \"event_type\":event_type, \"args\":args}\n",
    "    if parent_event:\n",
    "        data[\"parent_event\"] = parent_event\n",
    "    res = requests.post(\n",
    "        \"http://localhost:8000/events/\",\n",
    "        headers={\"Authorization\": \"Token \" + token, \"content-type\": \"application/json\"},\n",
    "        data=json.dumps(data),\n",
    "    )\n",
    "    return res\n",
    "\n",
    "def makeTune(token):\n",
    "    with open(\"test.mp3\", 'rb') as fobj:\n",
    "        res = requests.post(\n",
    "            \"http://localhost:8000/tunes/\",\n",
    "            headers={\"Authorization\": \"Token \" + token},\n",
    "            files={'file': fobj},\n",
    "        )\n",
    "        return res\n",
    "    \n",
    "def getEvents(token, room, event_type, skip, limit):\n",
    "    url =  \"http://localhost:8000/events/\"\n",
    "    \n",
    "    res = requests.get(url,\n",
    "                       params={\"room\":room, \"event_type\":event_type, \"skip\":skip, \"limit\":limit }, \n",
    "                       headers={\"Authorization\": \"Token \" + token})\n",
    "    return res\n",
    "\n",
    "def getTuneMeta(token, tune_id):\n",
    "    url = \"http://localhost:8000/tunes/{}/meta/\".format(tune_id)\n",
    "    res = requests.get(url, headers={\"Authorization\": \"Token \" + token})\n",
    "    return res\n",
    "\n",
    "def getTuneData(token, tune_id):\n",
    "    url = \"http://localhost:8000/tunes/{}/data/\".format(tune_id)\n",
    "    res = requests.get(url, headers={\"Authorization\": \"Token \" + token})\n",
    "    return res\n",
    "\n",
    "def getUser(token, skip, limit):\n",
    "    url = \"http://localhost:8000/users/?skip={}&limit={}\".format(skip, limit)\n",
    "    res = requests.get(url, headers={\"Authorization\": \"Token \" + token})\n",
    "    return res\n",
    "\n",
    "\n",
    "def makeUser(username, password):\n",
    "    url = \"http://localhost:8000/users/\"\n",
    "    res = requests.post(url,\n",
    "        data={\"username\": username, \"password\": password},\n",
    "    )\n",
    "    return res\n",
    "\n",
    "def getTuneSync(token, room_id):\n",
    "    url = \"http://localhost:8000/rooms/{}/tunesync/\".format(room_id)\n",
    "    res = requests.get(url, headers={\"Authorization\": \"Token \" + token})\n",
    "    return res\n",
    "\n",
    "def kickUser(token, room_id, kicked_user):\n",
    "    return makeEvent(token, room_id, \"U\", {\"type\": \"K\", \"user\": kicked_user})\n",
    "\n",
    "def inviteUsers(token, room_id, users):\n",
    "    return makeEvent(token, room_id, \"U\", {\"type\": \"I\", \"users\": users})\n",
    "\n",
    "def changeUser(token, room_id, user, role):\n",
    "    return makeEvent(token, room_id, \"U\", {\"type\": \"C\", \"user\": user, \"role\": role})\n",
    "\n",
    "def userJoin(token, room_id, is_accepted):\n",
    "    return makeEvent(token, room_id, \"U\", {\"type\": \"J\", \"is_accepted\": is_accepted})\n",
    "\n",
    "def getTune(token, query):\n",
    "    url = \"http://localhost:8000/tunes?{}\".format(query)\n",
    "    res = requests.get(url, headers={\"Authorization\": \"Token \" + token})\n",
    "    return res\n",
    "\n",
    "\n",
    "def getRoomEvent(token, room_id):\n",
    "    url = \"http://localhost:8000/rooms/{}/events/\".format(room_id)\n",
    "    res = requests.get(url, headers={\"Authorization\": \"Token \" + token})\n",
    "    return res\n",
    "\n",
    "def getRoomTuneSync(token, room_id):\n",
    "    url = \"http://localhost:8000/rooms/{}/tunesync/\".format(room_id)\n",
    "    res = requests.get(url, headers={\"Authorization\": \"Token \" + token})\n",
    "    return res\n"
   ]
  },
  {
   "cell_type": "code",
   "execution_count": 65,
   "metadata": {},
   "outputs": [
    {
     "data": {
      "text/plain": [
       "[{'id': 1,\n",
       "  'name': \"['Drums Urban Percussion Intro 2 (Music For Video)']\",\n",
       "  'length': 23.412125}]"
      ]
     },
     "execution_count": 65,
     "metadata": {},
     "output_type": "execute_result"
    }
   ],
   "source": [
    "res = getTune(TOKEN, \"album__icontains=royalty\")\n",
    "res.json()"
   ]
  },
  {
   "cell_type": "code",
   "execution_count": 100,
   "metadata": {},
   "outputs": [
    {
     "data": {
      "text/plain": [
       "{'detail': 'You do not have permission to perform this action.'}"
      ]
     },
     "execution_count": 100,
     "metadata": {},
     "output_type": "execute_result"
    }
   ],
   "source": [
    "res = getRoomTuneSync(TOKEN, 2)\n",
    "res.json()"
   ]
  },
  {
   "cell_type": "code",
   "execution_count": 5,
   "metadata": {},
   "outputs": [
    {
     "data": {
      "text/plain": [
       "{'detail': 'You do not have permission to perform this action.'}"
      ]
     },
     "execution_count": 5,
     "metadata": {},
     "output_type": "execute_result"
    }
   ],
   "source": [
    "res = getRoomEvent(TOKEN, 3)\n",
    "res.json()"
   ]
  },
  {
   "cell_type": "code",
   "execution_count": 66,
   "metadata": {},
   "outputs": [
    {
     "data": {
      "text/plain": [
       "[{'id': 1,\n",
       "  'name': \"['Drums Urban Percussion Intro 2 (Music For Video)']\",\n",
       "  'length': 23.412125}]"
      ]
     },
     "execution_count": 66,
     "metadata": {},
     "output_type": "execute_result"
    }
   ],
   "source": [
    "res = getTune(TOKEN, \"uploader=bbb\")\n",
    "res.json()"
   ]
  },
  {
   "cell_type": "code",
   "execution_count": 7,
   "metadata": {},
   "outputs": [
    {
     "data": {
      "text/plain": [
       "{'id': 3, 'username': 'krillin'}"
      ]
     },
     "execution_count": 7,
     "metadata": {},
     "output_type": "execute_result"
    }
   ],
   "source": [
    "res = makeUser(\"krillin\", \"green123\")\n",
    "res.json()\n"
   ]
  },
  {
   "cell_type": "code",
   "execution_count": 35,
   "metadata": {},
   "outputs": [
    {
     "data": {
      "text/plain": [
       "<Response [200]>"
      ]
     },
     "execution_count": 35,
     "metadata": {},
     "output_type": "execute_result"
    }
   ],
   "source": [
    "makeUser(\"goku\", \"green123\")"
   ]
  },
  {
   "cell_type": "code",
   "execution_count": 4,
   "metadata": {},
   "outputs": [],
   "source": [
    "USERNAME = \"goku\"\n",
    "PASSWORD = \"green123\"\n",
    "\n",
    "\n",
    "TOKEN = getToken(USERNAME, PASSWORD)"
   ]
  },
  {
   "cell_type": "code",
   "execution_count": 6,
   "metadata": {},
   "outputs": [
    {
     "data": {
      "text/plain": [
       "'c98c9aaa84b750c93fa284c8e24ad867ad34c1b2'"
      ]
     },
     "execution_count": 6,
     "metadata": {},
     "output_type": "execute_result"
    }
   ],
   "source": [
    "TOKEN"
   ]
  },
  {
   "cell_type": "code",
   "execution_count": 8,
   "metadata": {},
   "outputs": [
    {
     "data": {
      "text/plain": [
       "{'id': 2,\n",
       " 'title': 'sex',\n",
       " 'subtitle': None,\n",
       " 'creator': 2,\n",
       " 'members': [2],\n",
       " 'system_user': None}"
      ]
     },
     "execution_count": 8,
     "metadata": {},
     "output_type": "execute_result"
    }
   ],
   "source": [
    "res = makeRoom(TOKEN, \"sex\")\n",
    "res.json()"
   ]
  },
  {
   "cell_type": "code",
   "execution_count": 9,
   "metadata": {},
   "outputs": [
    {
     "data": {
      "text/plain": [
       "{'id': 1,\n",
       " 'room': 2,\n",
       " 'creation_time': '2020-03-24T19:19:30.596620Z',\n",
       " 'event_type': 'M',\n",
       " 'author': 2,\n",
       " 'parent_event_id': None,\n",
       " 'args': {'content': 'sex'},\n",
       " 'isDeleted': False}"
      ]
     },
     "execution_count": 9,
     "metadata": {},
     "output_type": "execute_result"
    }
   ],
   "source": [
    "res = makeEvent(TOKEN, 2, \"M\", {\"content\": \"sex\"})\n",
    "res.json()"
   ]
  },
  {
   "cell_type": "code",
   "execution_count": null,
   "metadata": {},
   "outputs": [],
   "source": [
    "# django=> select * from tunesync_membership;\n",
    "#  id | state | role | room_id | user_id \n",
    "# ----+-------+------+---------+---------\n",
    "#   1 | A     | A    |       1 |       3\n",
    "#   2 | A     | A    |       2 |       2\n",
    "# (2 rows)\n"
   ]
  },
  {
   "cell_type": "code",
   "execution_count": 68,
   "metadata": {},
   "outputs": [
    {
     "data": {
      "text/plain": [
       "{'detail': 'You do not have permission to perform this action.'}"
      ]
     },
     "execution_count": 68,
     "metadata": {},
     "output_type": "execute_result"
    }
   ],
   "source": [
    "res.json()"
   ]
  },
  {
   "cell_type": "code",
   "execution_count": 24,
   "metadata": {},
   "outputs": [
    {
     "data": {
      "text/plain": [
       "{'last_modify_queue': {'queue': [[1,\n",
       "    23.412125,\n",
       "    \"['Drums Urban Percussion Intro 2 (Music For Video)']\"]],\n",
       "  'event_id': 7},\n",
       " 'last_play': {'timestamp': 0.0,\n",
       "  'is_playing': True,\n",
       "  'queue_index': 0,\n",
       "  'event_id': 9},\n",
       " 'play_time': '2020-03-24T19:23:03.161059Z',\n",
       " 'room_id': 2}"
      ]
     },
     "execution_count": 24,
     "metadata": {},
     "output_type": "execute_result"
    }
   ],
   "source": [
    "res = makeEvent(TOKEN, 2, \"T\", {\"play\":{\"timestamp\":0.0, 'is_playing': True, 'queue_index': 0}})\n",
    "res.json()"
   ]
  },
  {
   "cell_type": "code",
   "execution_count": 22,
   "metadata": {},
   "outputs": [
    {
     "data": {
      "text/plain": [
       "{'last_modify_queue': {'queue': [[1,\n",
       "    23.412125,\n",
       "    \"['Drums Urban Percussion Intro 2 (Music For Video)']\"]],\n",
       "  'event_id': 7},\n",
       " 'last_play': None,\n",
       " 'play_time': None,\n",
       " 'room_id': 2}"
      ]
     },
     "execution_count": 22,
     "metadata": {},
     "output_type": "execute_result"
    }
   ],
   "source": [
    "res = makeEvent(TOKEN, 2, \"T\", {\"modify_queue\":{\"queue\":[1]}})\n",
    "res.json()"
   ]
  },
  {
   "cell_type": "code",
   "execution_count": 25,
   "metadata": {},
   "outputs": [
    {
     "data": {
      "text/plain": [
       "{'detail': 'You do not have permission to perform this action.'}"
      ]
     },
     "execution_count": 25,
     "metadata": {},
     "output_type": "execute_result"
    }
   ],
   "source": [
    "res = makeEvent(TOKEN, 3, \"U\", {\"type\": [1,2]})\n",
    "res.json()"
   ]
  },
  {
   "cell_type": "code",
   "execution_count": 24,
   "metadata": {},
   "outputs": [
    {
     "data": {
      "text/plain": [
       "<Response [200]>"
      ]
     },
     "execution_count": 24,
     "metadata": {},
     "output_type": "execute_result"
    }
   ],
   "source": [
    "res"
   ]
  },
  {
   "cell_type": "code",
   "execution_count": 47,
   "metadata": {},
   "outputs": [],
   "source": [
    "res = makeEvent(TOKEN, 8, \"PL\", {\"song_id\": 1, \"is_playing\":True, \"timestamp\": 10.4})"
   ]
  },
  {
   "cell_type": "code",
   "execution_count": 48,
   "metadata": {
    "scrolled": true
   },
   "outputs": [
    {
     "data": {
      "text/plain": [
       "{'detail': 'You do not have permission to perform this action.'}"
      ]
     },
     "execution_count": 48,
     "metadata": {},
     "output_type": "execute_result"
    }
   ],
   "source": [
    "res.json()"
   ]
  },
  {
   "cell_type": "code",
   "execution_count": 67,
   "metadata": {},
   "outputs": [
    {
     "data": {
      "text/plain": [
       "{'id': 8,\n",
       " 'room': 2,\n",
       " 'creation_time': '2020-03-20T18:57:22.611842Z',\n",
       " 'event_type': 'U',\n",
       " 'author': 2,\n",
       " 'parent_event_id': None,\n",
       " 'args': {'type': 'I', 'users': [4]},\n",
       " 'isDeleted': False}"
      ]
     },
     "execution_count": 67,
     "metadata": {},
     "output_type": "execute_result"
    }
   ],
   "source": [
    "res = inviteUsers(TOKEN, 2, [4])\n",
    "res.json()"
   ]
  },
  {
   "cell_type": "code",
   "execution_count": 39,
   "metadata": {},
   "outputs": [
    {
     "data": {
      "text/plain": [
       "{'id': 19,\n",
       " 'room': 2,\n",
       " 'creation_time': '2020-03-24T19:32:49.079127Z',\n",
       " 'event_type': 'U',\n",
       " 'author': 2,\n",
       " 'parent_event_id': None,\n",
       " 'args': {'type': 'I', 'users': [3]},\n",
       " 'isDeleted': False}"
      ]
     },
     "execution_count": 39,
     "metadata": {},
     "output_type": "execute_result"
    }
   ],
   "source": [
    "res = inviteUsers(TOKEN, 2, [3])\n",
    "res.json()"
   ]
  },
  {
   "cell_type": "code",
   "execution_count": 38,
   "metadata": {},
   "outputs": [
    {
     "data": {
      "text/plain": [
       "{'details': 'user is not in the room'}"
      ]
     },
     "execution_count": 38,
     "metadata": {},
     "output_type": "execute_result"
    }
   ],
   "source": [
    "res = kickUser(TOKEN, 2, 3)\n",
    "res.json()"
   ]
  },
  {
   "cell_type": "code",
   "execution_count": 46,
   "metadata": {},
   "outputs": [
    {
     "data": {
      "text/plain": [
       "400"
      ]
     },
     "execution_count": 46,
     "metadata": {},
     "output_type": "execute_result"
    }
   ],
   "source": [
    "res.status_code"
   ]
  },
  {
   "cell_type": "code",
   "execution_count": 74,
   "metadata": {},
   "outputs": [
    {
     "data": {
      "text/plain": [
       "{'id': 10,\n",
       " 'room': 2,\n",
       " 'creation_time': '2020-03-21T00:08:04.211899Z',\n",
       " 'event_type': 'U',\n",
       " 'author': 2,\n",
       " 'parent_event_id': None,\n",
       " 'args': {'type': 'C', 'user': 2, 'role': 'D'},\n",
       " 'isDeleted': False}"
      ]
     },
     "execution_count": 74,
     "metadata": {},
     "output_type": "execute_result"
    }
   ],
   "source": [
    "res = changeUser(TOKEN, 2, 2, \"D\")\n",
    "res.json()"
   ]
  },
  {
   "cell_type": "code",
   "execution_count": 69,
   "metadata": {},
   "outputs": [
    {
     "data": {
      "text/plain": [
       "{'details': 'user is not in the room'}"
      ]
     },
     "execution_count": 69,
     "metadata": {},
     "output_type": "execute_result"
    }
   ],
   "source": [
    "res.json()"
   ]
  },
  {
   "cell_type": "code",
   "execution_count": 34,
   "metadata": {},
   "outputs": [],
   "source": [
    "res = makeEvent(TOKEN, 1, \"M\", {\"content\": \"sex\"})"
   ]
  },
  {
   "cell_type": "code",
   "execution_count": 35,
   "metadata": {},
   "outputs": [
    {
     "data": {
      "text/plain": [
       "{'id': 9,\n",
       " 'room': 1,\n",
       " 'creation_time': '2020-03-16T12:40:21.851273Z',\n",
       " 'event_type': 'M',\n",
       " 'author': 2,\n",
       " 'parent_event_id': None,\n",
       " 'args': {'content': 'sex'},\n",
       " 'isDeleted': False}"
      ]
     },
     "execution_count": 35,
     "metadata": {},
     "output_type": "execute_result"
    }
   ],
   "source": [
    "res.json()"
   ]
  },
  {
   "cell_type": "code",
   "execution_count": 36,
   "metadata": {},
   "outputs": [],
   "source": [
    "res = makeEvent(TOKEN, 8, \"PO\", {\"action\": \"PL\", \"song_id\": 1, \"is_playing\":True, \"timestamp\": 10.4})"
   ]
  },
  {
   "cell_type": "code",
   "execution_count": 37,
   "metadata": {},
   "outputs": [
    {
     "ename": "JSONDecodeError",
     "evalue": "Expecting value: line 1 column 1 (char 0)",
     "output_type": "error",
     "traceback": [
      "\u001b[0;31m---------------------------------------------------------------------------\u001b[0m",
      "\u001b[0;31mJSONDecodeError\u001b[0m                           Traceback (most recent call last)",
      "\u001b[0;32m<ipython-input-37-5990537c6b86>\u001b[0m in \u001b[0;36m<module>\u001b[0;34m()\u001b[0m\n\u001b[0;32m----> 1\u001b[0;31m \u001b[0mres\u001b[0m\u001b[0;34m.\u001b[0m\u001b[0mjson\u001b[0m\u001b[0;34m(\u001b[0m\u001b[0;34m)\u001b[0m\u001b[0;34m\u001b[0m\u001b[0;34m\u001b[0m\u001b[0m\n\u001b[0m",
      "\u001b[0;32m/usr/lib/python3/dist-packages/requests/models.py\u001b[0m in \u001b[0;36mjson\u001b[0;34m(self, **kwargs)\u001b[0m\n\u001b[1;32m    895\u001b[0m                     \u001b[0;31m# used.\u001b[0m\u001b[0;34m\u001b[0m\u001b[0;34m\u001b[0m\u001b[0;34m\u001b[0m\u001b[0m\n\u001b[1;32m    896\u001b[0m                     \u001b[0;32mpass\u001b[0m\u001b[0;34m\u001b[0m\u001b[0;34m\u001b[0m\u001b[0m\n\u001b[0;32m--> 897\u001b[0;31m         \u001b[0;32mreturn\u001b[0m \u001b[0mcomplexjson\u001b[0m\u001b[0;34m.\u001b[0m\u001b[0mloads\u001b[0m\u001b[0;34m(\u001b[0m\u001b[0mself\u001b[0m\u001b[0;34m.\u001b[0m\u001b[0mtext\u001b[0m\u001b[0;34m,\u001b[0m \u001b[0;34m**\u001b[0m\u001b[0mkwargs\u001b[0m\u001b[0;34m)\u001b[0m\u001b[0;34m\u001b[0m\u001b[0;34m\u001b[0m\u001b[0m\n\u001b[0m\u001b[1;32m    898\u001b[0m \u001b[0;34m\u001b[0m\u001b[0m\n\u001b[1;32m    899\u001b[0m     \u001b[0;34m@\u001b[0m\u001b[0mproperty\u001b[0m\u001b[0;34m\u001b[0m\u001b[0;34m\u001b[0m\u001b[0m\n",
      "\u001b[0;32m/usr/lib/python3/dist-packages/simplejson/__init__.py\u001b[0m in \u001b[0;36mloads\u001b[0;34m(s, encoding, cls, object_hook, parse_float, parse_int, parse_constant, object_pairs_hook, use_decimal, **kw)\u001b[0m\n\u001b[1;32m    516\u001b[0m             \u001b[0mparse_constant\u001b[0m \u001b[0;32mis\u001b[0m \u001b[0;32mNone\u001b[0m \u001b[0;32mand\u001b[0m \u001b[0mobject_pairs_hook\u001b[0m \u001b[0;32mis\u001b[0m \u001b[0;32mNone\u001b[0m\u001b[0;34m\u001b[0m\u001b[0;34m\u001b[0m\u001b[0m\n\u001b[1;32m    517\u001b[0m             and not use_decimal and not kw):\n\u001b[0;32m--> 518\u001b[0;31m         \u001b[0;32mreturn\u001b[0m \u001b[0m_default_decoder\u001b[0m\u001b[0;34m.\u001b[0m\u001b[0mdecode\u001b[0m\u001b[0;34m(\u001b[0m\u001b[0ms\u001b[0m\u001b[0;34m)\u001b[0m\u001b[0;34m\u001b[0m\u001b[0;34m\u001b[0m\u001b[0m\n\u001b[0m\u001b[1;32m    519\u001b[0m     \u001b[0;32mif\u001b[0m \u001b[0mcls\u001b[0m \u001b[0;32mis\u001b[0m \u001b[0;32mNone\u001b[0m\u001b[0;34m:\u001b[0m\u001b[0;34m\u001b[0m\u001b[0;34m\u001b[0m\u001b[0m\n\u001b[1;32m    520\u001b[0m         \u001b[0mcls\u001b[0m \u001b[0;34m=\u001b[0m \u001b[0mJSONDecoder\u001b[0m\u001b[0;34m\u001b[0m\u001b[0;34m\u001b[0m\u001b[0m\n",
      "\u001b[0;32m/usr/lib/python3/dist-packages/simplejson/decoder.py\u001b[0m in \u001b[0;36mdecode\u001b[0;34m(self, s, _w, _PY3)\u001b[0m\n\u001b[1;32m    368\u001b[0m         \u001b[0;32mif\u001b[0m \u001b[0m_PY3\u001b[0m \u001b[0;32mand\u001b[0m \u001b[0misinstance\u001b[0m\u001b[0;34m(\u001b[0m\u001b[0ms\u001b[0m\u001b[0;34m,\u001b[0m \u001b[0mbytes\u001b[0m\u001b[0;34m)\u001b[0m\u001b[0;34m:\u001b[0m\u001b[0;34m\u001b[0m\u001b[0;34m\u001b[0m\u001b[0m\n\u001b[1;32m    369\u001b[0m             \u001b[0ms\u001b[0m \u001b[0;34m=\u001b[0m \u001b[0mstr\u001b[0m\u001b[0;34m(\u001b[0m\u001b[0ms\u001b[0m\u001b[0;34m,\u001b[0m \u001b[0mself\u001b[0m\u001b[0;34m.\u001b[0m\u001b[0mencoding\u001b[0m\u001b[0;34m)\u001b[0m\u001b[0;34m\u001b[0m\u001b[0;34m\u001b[0m\u001b[0m\n\u001b[0;32m--> 370\u001b[0;31m         \u001b[0mobj\u001b[0m\u001b[0;34m,\u001b[0m \u001b[0mend\u001b[0m \u001b[0;34m=\u001b[0m \u001b[0mself\u001b[0m\u001b[0;34m.\u001b[0m\u001b[0mraw_decode\u001b[0m\u001b[0;34m(\u001b[0m\u001b[0ms\u001b[0m\u001b[0;34m)\u001b[0m\u001b[0;34m\u001b[0m\u001b[0;34m\u001b[0m\u001b[0m\n\u001b[0m\u001b[1;32m    371\u001b[0m         \u001b[0mend\u001b[0m \u001b[0;34m=\u001b[0m \u001b[0m_w\u001b[0m\u001b[0;34m(\u001b[0m\u001b[0ms\u001b[0m\u001b[0;34m,\u001b[0m \u001b[0mend\u001b[0m\u001b[0;34m)\u001b[0m\u001b[0;34m.\u001b[0m\u001b[0mend\u001b[0m\u001b[0;34m(\u001b[0m\u001b[0;34m)\u001b[0m\u001b[0;34m\u001b[0m\u001b[0;34m\u001b[0m\u001b[0m\n\u001b[1;32m    372\u001b[0m         \u001b[0;32mif\u001b[0m \u001b[0mend\u001b[0m \u001b[0;34m!=\u001b[0m \u001b[0mlen\u001b[0m\u001b[0;34m(\u001b[0m\u001b[0ms\u001b[0m\u001b[0;34m)\u001b[0m\u001b[0;34m:\u001b[0m\u001b[0;34m\u001b[0m\u001b[0;34m\u001b[0m\u001b[0m\n",
      "\u001b[0;32m/usr/lib/python3/dist-packages/simplejson/decoder.py\u001b[0m in \u001b[0;36mraw_decode\u001b[0;34m(self, s, idx, _w, _PY3)\u001b[0m\n\u001b[1;32m    398\u001b[0m             \u001b[0;32melif\u001b[0m \u001b[0mord0\u001b[0m \u001b[0;34m==\u001b[0m \u001b[0;36m0xef\u001b[0m \u001b[0;32mand\u001b[0m \u001b[0ms\u001b[0m\u001b[0;34m[\u001b[0m\u001b[0midx\u001b[0m\u001b[0;34m:\u001b[0m\u001b[0midx\u001b[0m \u001b[0;34m+\u001b[0m \u001b[0;36m3\u001b[0m\u001b[0;34m]\u001b[0m \u001b[0;34m==\u001b[0m \u001b[0;34m'\\xef\\xbb\\xbf'\u001b[0m\u001b[0;34m:\u001b[0m\u001b[0;34m\u001b[0m\u001b[0;34m\u001b[0m\u001b[0m\n\u001b[1;32m    399\u001b[0m                 \u001b[0midx\u001b[0m \u001b[0;34m+=\u001b[0m \u001b[0;36m3\u001b[0m\u001b[0;34m\u001b[0m\u001b[0;34m\u001b[0m\u001b[0m\n\u001b[0;32m--> 400\u001b[0;31m         \u001b[0;32mreturn\u001b[0m \u001b[0mself\u001b[0m\u001b[0;34m.\u001b[0m\u001b[0mscan_once\u001b[0m\u001b[0;34m(\u001b[0m\u001b[0ms\u001b[0m\u001b[0;34m,\u001b[0m \u001b[0midx\u001b[0m\u001b[0;34m=\u001b[0m\u001b[0m_w\u001b[0m\u001b[0;34m(\u001b[0m\u001b[0ms\u001b[0m\u001b[0;34m,\u001b[0m \u001b[0midx\u001b[0m\u001b[0;34m)\u001b[0m\u001b[0;34m.\u001b[0m\u001b[0mend\u001b[0m\u001b[0;34m(\u001b[0m\u001b[0;34m)\u001b[0m\u001b[0;34m)\u001b[0m\u001b[0;34m\u001b[0m\u001b[0;34m\u001b[0m\u001b[0m\n\u001b[0m",
      "\u001b[0;31mJSONDecodeError\u001b[0m: Expecting value: line 1 column 1 (char 0)"
     ]
    }
   ],
   "source": [
    "res.json()"
   ]
  },
  {
   "cell_type": "code",
   "execution_count": 48,
   "metadata": {},
   "outputs": [],
   "source": [
    "res = makeEvent(TOKEN, 8, \"PO\", {\"action\": \"MQ\", \"queue\": [1 ,2]})"
   ]
  },
  {
   "cell_type": "code",
   "execution_count": 49,
   "metadata": {},
   "outputs": [
    {
     "data": {
      "text/plain": [
       "{'id': 39,\n",
       " 'room': 8,\n",
       " 'creation_time': '2020-03-15T17:12:06.149680Z',\n",
       " 'event_type': 'PO',\n",
       " 'author': 2,\n",
       " 'parent_event_id': None,\n",
       " 'args': {'action': 'MQ', 'queue': [1, 2]},\n",
       " 'isDeleted': False}"
      ]
     },
     "execution_count": 49,
     "metadata": {},
     "output_type": "execute_result"
    }
   ],
   "source": [
    "res.json()"
   ]
  },
  {
   "cell_type": "code",
   "execution_count": 51,
   "metadata": {},
   "outputs": [],
   "source": [
    "res = makeEvent(TOKEN, 8, \"PO\", {\"action\": \"U\", \"type\": \"K\" , \"user\": 4})"
   ]
  },
  {
   "cell_type": "code",
   "execution_count": 46,
   "metadata": {},
   "outputs": [
    {
     "data": {
      "text/plain": [
       "[{'id': 1,\n",
       "  'uploader': 2,\n",
       "  'name': \"['Drums Urban Percussion Intro 2 (Music For Video)']\",\n",
       "  'artist': \"['TunePocket.com Music Library']\",\n",
       "  'album': \"['TunePocket Unlimited Royalty Free Music Library']\",\n",
       "  'mime': 'audio/mp3',\n",
       "  'length': 23.412125}]"
      ]
     },
     "execution_count": 46,
     "metadata": {},
     "output_type": "execute_result"
    }
   ],
   "source": [
    "res.json()"
   ]
  },
  {
   "cell_type": "code",
   "execution_count": 19,
   "metadata": {},
   "outputs": [],
   "source": [
    "res = makeTune(TOKEN)"
   ]
  },
  {
   "cell_type": "code",
   "execution_count": 92,
   "metadata": {},
   "outputs": [],
   "source": [
    "res = getTuneMeta(TOKEN, 2)"
   ]
  },
  {
   "cell_type": "code",
   "execution_count": 15,
   "metadata": {},
   "outputs": [],
   "source": [
    "res = getUser(TOKEN, 0, 5)"
   ]
  },
  {
   "cell_type": "code",
   "execution_count": 107,
   "metadata": {},
   "outputs": [],
   "source": [
    "res = getTuneData(TOKEN,2)"
   ]
  },
  {
   "cell_type": "code",
   "execution_count": 20,
   "metadata": {},
   "outputs": [
    {
     "data": {
      "text/plain": [
       "[{'id': 2,\n",
       "  'uploader': 2,\n",
       "  'name': \"['Drums Urban Percussion Intro 2 (Music For Video)']\",\n",
       "  'artist': \"['TunePocket.com Music Library']\",\n",
       "  'album': \"['TunePocket Unlimited Royalty Free Music Library']\",\n",
       "  'mime': 'audio/mp3',\n",
       "  'length': 23.412125}]"
      ]
     },
     "execution_count": 20,
     "metadata": {},
     "output_type": "execute_result"
    }
   ],
   "source": [
    "res.json()"
   ]
  },
  {
   "cell_type": "code",
   "execution_count": 35,
   "metadata": {},
   "outputs": [
    {
     "data": {
      "text/plain": [
       "{'album': ['TunePocket Unlimited Royalty Free Music Library'], 'composer': ['www.tunepocket.com'], 'title': ['Drums Urban Percussion Intro 2 (Music For Video)'], 'artist': ['TunePocket.com Music Library'], 'albumartist': ['www.tunepocket.com'], 'genre': ['Electronic']}"
      ]
     },
     "execution_count": 35,
     "metadata": {},
     "output_type": "execute_result"
    }
   ],
   "source": [
    "audio = mutagen.File(\"test.mp3\", easy=True)\n",
    "audio.tags"
   ]
  },
  {
   "cell_type": "code",
   "execution_count": 39,
   "metadata": {},
   "outputs": [
    {
     "data": {
      "text/plain": [
       "'audio/mp3'"
      ]
     },
     "execution_count": 39,
     "metadata": {},
     "output_type": "execute_result"
    }
   ],
   "source": [
    "audio.mime[0]"
   ]
  },
  {
   "cell_type": "code",
   "execution_count": 40,
   "metadata": {},
   "outputs": [
    {
     "data": {
      "text/plain": [
       "23.412125"
      ]
     },
     "execution_count": 40,
     "metadata": {},
     "output_type": "execute_result"
    }
   ],
   "source": [
    "audio.info.length"
   ]
  },
  {
   "cell_type": "code",
   "execution_count": 44,
   "metadata": {},
   "outputs": [
    {
     "data": {
      "text/plain": [
       "['Drums Urban Percussion Intro 2 (Music For Video)']"
      ]
     },
     "execution_count": 44,
     "metadata": {},
     "output_type": "execute_result"
    }
   ],
   "source": [
    "audio[\"title\"]"
   ]
  }
 ],
 "metadata": {
  "kernelspec": {
   "display_name": "Python 3",
   "language": "python",
   "name": "python3"
  },
  "language_info": {
   "codemirror_mode": {
    "name": "ipython",
    "version": 3
   },
   "file_extension": ".py",
   "mimetype": "text/x-python",
   "name": "python",
   "nbconvert_exporter": "python",
   "pygments_lexer": "ipython3",
   "version": "3.7.3"
  }
 },
 "nbformat": 4,
 "nbformat_minor": 2
}
