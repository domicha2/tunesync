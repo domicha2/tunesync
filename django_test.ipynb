{
 "cells": [
  {
   "cell_type": "code",
   "execution_count": 11,
   "metadata": {},
   "outputs": [],
   "source": [
    "import requests\n",
    "import json\n",
    "\n",
    "USERNAME = \"bbb\"\n",
    "PASSWORD = \".\"\n"
   ]
  },
  {
   "cell_type": "code",
   "execution_count": 12,
   "metadata": {},
   "outputs": [],
   "source": [
    "def getToken(username, password):\n",
    "    res = requests.post(\n",
    "        \"http://localhost:8000/get-token/\",\n",
    "        data={\"username\": \"bbb\", \"password\": \".\"},\n",
    "        verify=False,\n",
    "    )\n",
    "    return res.json()[\"token\"]\n",
    "\n",
    "\n",
    "def makeRoom(token, title, subtitle=None):\n",
    "    res = requests.post(\n",
    "        \"http://localhost:8000/rooms/\",\n",
    "        headers={\"Authorization\": \"Token \" + TOKEN},\n",
    "        data={\"subtitle\": subtitle, \"title\": title},\n",
    "    )\n",
    "    return res\n",
    "\n",
    "\n",
    "def makeEvent(token, room, author, event_type, args):\n",
    "    res = requests.post(\n",
    "        \"http://localhost:8000/events/\",\n",
    "        headers={\"Authorization\": \"Token \" + TOKEN, \"content-type\": \"application/json\"},\n",
    "        data=json.dumps({\"room\": room, \"author\": author, \"event_type\":event_type, \"args\":args}),\n",
    "    )\n",
    "    return res\n",
    "\n",
    "def makeTune(token):\n",
    "    with open(\"test.mp3\", 'rb') as fobj:\n",
    "        res = requests.post(\n",
    "            \"http://localhost:8000/tunes/\",\n",
    "            headers={\"Authorization\": \"Token \" + TOKEN},\n",
    "            files={'file': fobj},\n",
    "        )\n",
    "        return res\n",
    "    \n",
    "def getEvents(token, room, event_type, skip, limit):\n",
    "    url =  \"http://localhost:8000/events/\"\n",
    "    \n",
    "    res = requests.get(url,\n",
    "                       params={\"room\":room, \"event_type\":event_type, \"skip\":skip, \"limit\":limit }, \n",
    "                       headers={\"Authorization\": \"Token \" + TOKEN})\n",
    "    return res\n",
    "\n",
    "def getTuneMeta(token, tune_id):\n",
    "    url = \"http://localhost:8000/tunes/{}/meta/\".format(tune_id)\n",
    "    res = requests.get(url, headers={\"Authorization\": \"Token \" + TOKEN})\n",
    "    return res\n",
    "\n",
    "def getTuneData(token, tune_id):\n",
    "    url = \"http://localhost:8000/tunes/{}/data/\".format(tune_id)\n",
    "    res = requests.get(url, headers={\"Authorization\": \"Token \" + TOKEN})\n",
    "    return res\n",
    "\n",
    "def getUser(token, skip, limit):\n",
    "    url = \"http://localhost:8000/users/?skip={}&limit={}\".format(skip, limit)\n",
    "    res = requests.get(url, headers={\"Authorization\": \"Token \" + TOKEN})\n",
    "    return res\n",
    "\n",
    "\n",
    "TOKEN = getToken(USERNAME, PASSWORD)\n",
    "\n"
   ]
  },
  {
   "cell_type": "markdown",
   "metadata": {},
   "source": [
    "SEX"
   ]
  },
  {
   "cell_type": "code",
   "execution_count": 6,
   "metadata": {},
   "outputs": [
    {
     "data": {
      "text/plain": [
       "{'id': 1, 'title': 'cwnewr', 'subtitle': 'boop', 'creator': 2, 'members': [2]}"
      ]
     },
     "execution_count": 6,
     "metadata": {},
     "output_type": "execute_result"
    }
   ],
   "source": [
    "res = makeRoom(TOKEN, \"cwnewr\", \"boop\")\n",
    "res.json()"
   ]
  },
  {
   "cell_type": "code",
   "execution_count": 88,
   "metadata": {},
   "outputs": [],
   "source": [
    "res = makeEvent(TOKEN, 1, 2, \"M\", {\"action\": \"sexss\"})"
   ]
  },
  {
   "cell_type": "code",
   "execution_count": 3,
   "metadata": {},
   "outputs": [],
   "source": [
    "res = makeTune(TOKEN)"
   ]
  },
  {
   "cell_type": "code",
   "execution_count": 92,
   "metadata": {},
   "outputs": [],
   "source": [
    "res = getTuneMeta(TOKEN, 2)"
   ]
  },
  {
   "cell_type": "code",
   "execution_count": 15,
   "metadata": {},
   "outputs": [],
   "source": [
    "res = getUser(TOKEN, 0, 5)"
   ]
  },
  {
   "cell_type": "code",
   "execution_count": 107,
   "metadata": {},
   "outputs": [],
   "source": [
    "res = getTuneData(TOKEN,2)"
   ]
  },
  {
   "cell_type": "code",
   "execution_count": 17,
   "metadata": {},
   "outputs": [
    {
     "data": {
      "text/plain": [
       "[{'id': 1, 'username': 'aaa'}]"
      ]
     },
     "execution_count": 17,
     "metadata": {},
     "output_type": "execute_result"
    }
   ],
   "source": [
    "res.json()"
   ]
  },
  {
   "cell_type": "code",
   "execution_count": 35,
   "metadata": {},
   "outputs": [
    {
     "data": {
      "text/plain": [
       "{'album': ['TunePocket Unlimited Royalty Free Music Library'], 'composer': ['www.tunepocket.com'], 'title': ['Drums Urban Percussion Intro 2 (Music For Video)'], 'artist': ['TunePocket.com Music Library'], 'albumartist': ['www.tunepocket.com'], 'genre': ['Electronic']}"
      ]
     },
     "execution_count": 35,
     "metadata": {},
     "output_type": "execute_result"
    }
   ],
   "source": [
    "audio = mutagen.File(\"test.mp3\", easy=True)\n",
    "audio.tags"
   ]
  },
  {
   "cell_type": "code",
   "execution_count": 39,
   "metadata": {},
   "outputs": [
    {
     "data": {
      "text/plain": [
       "'audio/mp3'"
      ]
     },
     "execution_count": 39,
     "metadata": {},
     "output_type": "execute_result"
    }
   ],
   "source": [
    "audio.mime[0]"
   ]
  },
  {
   "cell_type": "code",
   "execution_count": 40,
   "metadata": {},
   "outputs": [
    {
     "data": {
      "text/plain": [
       "23.412125"
      ]
     },
     "execution_count": 40,
     "metadata": {},
     "output_type": "execute_result"
    }
   ],
   "source": [
    "audio.info.length"
   ]
  },
  {
   "cell_type": "code",
   "execution_count": 44,
   "metadata": {},
   "outputs": [
    {
     "data": {
      "text/plain": [
       "['Drums Urban Percussion Intro 2 (Music For Video)']"
      ]
     },
     "execution_count": 44,
     "metadata": {},
     "output_type": "execute_result"
    }
   ],
   "source": [
    "audio[\"title\"]"
   ]
  }
 ],
 "metadata": {
  "kernelspec": {
   "display_name": "Python 3",
   "language": "python",
   "name": "python3"
  },
  "language_info": {
   "codemirror_mode": {
    "name": "ipython",
    "version": 3
   },
   "file_extension": ".py",
   "mimetype": "text/x-python",
   "name": "python",
   "nbconvert_exporter": "python",
   "pygments_lexer": "ipython3",
   "version": "3.7.3"
  }
 },
 "nbformat": 4,
 "nbformat_minor": 2
}
